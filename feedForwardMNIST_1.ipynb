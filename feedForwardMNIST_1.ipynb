{
  "cells": [
    {
      "cell_type": "markdown",
      "id": "2c0abd51",
      "metadata": {
        "id": "2c0abd51"
      },
      "source": [
        "# Feedforward classification of the NMIST data\n",
        "### Advanced Deep Learning 2023\n",
        "This notebook was written originally Jon Sporring (mailto:sporring@di.ku.dk) and heavily inspired by https://clay-atlas.com/us/blog/2021/04/22/pytorch-en-tutorial-4-train-a-model-to-classify-mnist.\n",
        "\n",
        "We consider the Modified National Institute of Standards and Technology database of handwritten digits (MNIST): http://yann.lecun.com/exdb/mnist/"
      ]
    },
    {
      "cell_type": "markdown",
      "id": "a4b1cd80",
      "metadata": {
        "id": "a4b1cd80"
      },
      "source": [
        "## Installs\n",
        "\n",
        "On non-colab system, is usually good to make an environment and install necessary tools there. E.g., anaconda->jupyter->terminal create an environment, if you have not already, and activate it:\n",
        "```\n",
        "conda create -n adl python=3.9\n",
        "conda activate adl\n",
        "```\n",
        "then install missing packages such as:\n",
        "```\n",
        "conda install ipykernel torch matplotlib torchmetrics scikit-image jpeg\n",
        "conda install -c conda-forge segmentation-models-pytorch ipywidgets\n",
        "```\n",
        "and if you want to add it to jupyter's drop-down menu\n",
        "```\n",
        "ipython kernel install --user --name=adl\n",
        "```\n",
        "Now reload the jupyter-notebook's homepage and make a new or load an existing file. On colab, the tools have to be installed everytime"
      ]
    },
    {
      "cell_type": "code",
      "execution_count": null,
      "id": "4afe90fa",
      "metadata": {
        "colab": {
          "base_uri": "https://localhost:8080/"
        },
        "id": "4afe90fa",
        "outputId": "2a298ce1-9e18-4878-cc1d-a125417e8b5a"
      },
      "outputs": [
        {
          "output_type": "stream",
          "name": "stdout",
          "text": [
            "Looking in indexes: https://pypi.org/simple, https://us-python.pkg.dev/colab-wheels/public/simple/\n",
            "Requirement already satisfied: torch in /usr/local/lib/python3.10/dist-packages (2.0.0+cu118)\n",
            "Requirement already satisfied: matplotlib in /usr/local/lib/python3.10/dist-packages (3.7.1)\n",
            "Collecting torchmetrics\n",
            "  Downloading torchmetrics-0.11.4-py3-none-any.whl (519 kB)\n",
            "\u001b[2K     \u001b[90m━━━━━━━━━━━━━━━━━━━━━━━━━━━━━━━━━━━━━━━\u001b[0m \u001b[32m519.2/519.2 kB\u001b[0m \u001b[31m3.5 MB/s\u001b[0m eta \u001b[36m0:00:00\u001b[0m\n",
            "\u001b[?25hRequirement already satisfied: scikit-image in /usr/local/lib/python3.10/dist-packages (0.19.3)\n",
            "Collecting segmentation-models-pytorch\n",
            "  Downloading segmentation_models_pytorch-0.3.2-py3-none-any.whl (106 kB)\n",
            "\u001b[2K     \u001b[90m━━━━━━━━━━━━━━━━━━━━━━━━━━━━━━━━━━━━━━━\u001b[0m \u001b[32m106.7/106.7 kB\u001b[0m \u001b[31m7.3 MB/s\u001b[0m eta \u001b[36m0:00:00\u001b[0m\n",
            "\u001b[?25hRequirement already satisfied: sympy in /usr/local/lib/python3.10/dist-packages (from torch) (1.11.1)\n",
            "Requirement already satisfied: typing-extensions in /usr/local/lib/python3.10/dist-packages (from torch) (4.5.0)\n",
            "Requirement already satisfied: filelock in /usr/local/lib/python3.10/dist-packages (from torch) (3.12.0)\n",
            "Requirement already satisfied: jinja2 in /usr/local/lib/python3.10/dist-packages (from torch) (3.1.2)\n",
            "Requirement already satisfied: triton==2.0.0 in /usr/local/lib/python3.10/dist-packages (from torch) (2.0.0)\n",
            "Requirement already satisfied: networkx in /usr/local/lib/python3.10/dist-packages (from torch) (3.1)\n",
            "Requirement already satisfied: cmake in /usr/local/lib/python3.10/dist-packages (from triton==2.0.0->torch) (3.25.2)\n",
            "Requirement already satisfied: lit in /usr/local/lib/python3.10/dist-packages (from triton==2.0.0->torch) (16.0.2)\n",
            "Requirement already satisfied: numpy>=1.20 in /usr/local/lib/python3.10/dist-packages (from matplotlib) (1.22.4)\n",
            "Requirement already satisfied: kiwisolver>=1.0.1 in /usr/local/lib/python3.10/dist-packages (from matplotlib) (1.4.4)\n",
            "Requirement already satisfied: cycler>=0.10 in /usr/local/lib/python3.10/dist-packages (from matplotlib) (0.11.0)\n",
            "Requirement already satisfied: pyparsing>=2.3.1 in /usr/local/lib/python3.10/dist-packages (from matplotlib) (3.0.9)\n",
            "Requirement already satisfied: packaging>=20.0 in /usr/local/lib/python3.10/dist-packages (from matplotlib) (23.1)\n",
            "Requirement already satisfied: python-dateutil>=2.7 in /usr/local/lib/python3.10/dist-packages (from matplotlib) (2.8.2)\n",
            "Requirement already satisfied: pillow>=6.2.0 in /usr/local/lib/python3.10/dist-packages (from matplotlib) (8.4.0)\n",
            "Requirement already satisfied: contourpy>=1.0.1 in /usr/local/lib/python3.10/dist-packages (from matplotlib) (1.0.7)\n",
            "Requirement already satisfied: fonttools>=4.22.0 in /usr/local/lib/python3.10/dist-packages (from matplotlib) (4.39.3)\n",
            "Requirement already satisfied: imageio>=2.4.1 in /usr/local/lib/python3.10/dist-packages (from scikit-image) (2.25.1)\n",
            "Requirement already satisfied: scipy>=1.4.1 in /usr/local/lib/python3.10/dist-packages (from scikit-image) (1.10.1)\n",
            "Requirement already satisfied: tifffile>=2019.7.26 in /usr/local/lib/python3.10/dist-packages (from scikit-image) (2023.4.12)\n",
            "Requirement already satisfied: PyWavelets>=1.1.1 in /usr/local/lib/python3.10/dist-packages (from scikit-image) (1.4.1)\n",
            "Collecting timm==0.6.12\n",
            "  Downloading timm-0.6.12-py3-none-any.whl (549 kB)\n",
            "\u001b[2K     \u001b[90m━━━━━━━━━━━━━━━━━━━━━━━━━━━━━━━━━━━━━━\u001b[0m \u001b[32m549.1/549.1 kB\u001b[0m \u001b[31m27.6 MB/s\u001b[0m eta \u001b[36m0:00:00\u001b[0m\n",
            "\u001b[?25hRequirement already satisfied: torchvision>=0.5.0 in /usr/local/lib/python3.10/dist-packages (from segmentation-models-pytorch) (0.15.1+cu118)\n",
            "Collecting pretrainedmodels==0.7.4\n",
            "  Downloading pretrainedmodels-0.7.4.tar.gz (58 kB)\n",
            "\u001b[2K     \u001b[90m━━━━━━━━━━━━━━━━━━━━━━━━━━━━━━━━━━━━━━━━\u001b[0m \u001b[32m58.8/58.8 kB\u001b[0m \u001b[31m3.4 MB/s\u001b[0m eta \u001b[36m0:00:00\u001b[0m\n",
            "\u001b[?25h  Preparing metadata (setup.py) ... \u001b[?25l\u001b[?25hdone\n",
            "Requirement already satisfied: tqdm in /usr/local/lib/python3.10/dist-packages (from segmentation-models-pytorch) (4.65.0)\n",
            "Collecting efficientnet-pytorch==0.7.1\n",
            "  Downloading efficientnet_pytorch-0.7.1.tar.gz (21 kB)\n",
            "  Preparing metadata (setup.py) ... \u001b[?25l\u001b[?25hdone\n",
            "Collecting munch\n",
            "  Downloading munch-2.5.0-py2.py3-none-any.whl (10 kB)\n",
            "Requirement already satisfied: pyyaml in /usr/local/lib/python3.10/dist-packages (from timm==0.6.12->segmentation-models-pytorch) (6.0)\n",
            "Collecting huggingface-hub\n",
            "  Downloading huggingface_hub-0.14.1-py3-none-any.whl (224 kB)\n",
            "\u001b[2K     \u001b[90m━━━━━━━━━━━━━━━━━━━━━━━━━━━━━━━━━━━━━━━\u001b[0m \u001b[32m224.5/224.5 kB\u001b[0m \u001b[31m2.7 MB/s\u001b[0m eta \u001b[36m0:00:00\u001b[0m\n",
            "\u001b[?25hRequirement already satisfied: six>=1.5 in /usr/local/lib/python3.10/dist-packages (from python-dateutil>=2.7->matplotlib) (1.16.0)\n",
            "Requirement already satisfied: requests in /usr/local/lib/python3.10/dist-packages (from torchvision>=0.5.0->segmentation-models-pytorch) (2.27.1)\n",
            "Requirement already satisfied: MarkupSafe>=2.0 in /usr/local/lib/python3.10/dist-packages (from jinja2->torch) (2.1.2)\n",
            "Requirement already satisfied: mpmath>=0.19 in /usr/local/lib/python3.10/dist-packages (from sympy->torch) (1.3.0)\n",
            "Requirement already satisfied: fsspec in /usr/local/lib/python3.10/dist-packages (from huggingface-hub->timm==0.6.12->segmentation-models-pytorch) (2023.4.0)\n",
            "Requirement already satisfied: certifi>=2017.4.17 in /usr/local/lib/python3.10/dist-packages (from requests->torchvision>=0.5.0->segmentation-models-pytorch) (2022.12.7)\n",
            "Requirement already satisfied: urllib3<1.27,>=1.21.1 in /usr/local/lib/python3.10/dist-packages (from requests->torchvision>=0.5.0->segmentation-models-pytorch) (1.26.15)\n",
            "Requirement already satisfied: charset-normalizer~=2.0.0 in /usr/local/lib/python3.10/dist-packages (from requests->torchvision>=0.5.0->segmentation-models-pytorch) (2.0.12)\n",
            "Requirement already satisfied: idna<4,>=2.5 in /usr/local/lib/python3.10/dist-packages (from requests->torchvision>=0.5.0->segmentation-models-pytorch) (3.4)\n",
            "Building wheels for collected packages: efficientnet-pytorch, pretrainedmodels\n",
            "  Building wheel for efficientnet-pytorch (setup.py) ... \u001b[?25l\u001b[?25hdone\n",
            "  Created wheel for efficientnet-pytorch: filename=efficientnet_pytorch-0.7.1-py3-none-any.whl size=16444 sha256=9d92865feabb9c722aed6ab57a04227f0934ffbdca412a6a25f73c9d86c051cb\n",
            "  Stored in directory: /root/.cache/pip/wheels/03/3f/e9/911b1bc46869644912bda90a56bcf7b960f20b5187feea3baf\n",
            "  Building wheel for pretrainedmodels (setup.py) ... \u001b[?25l\u001b[?25hdone\n",
            "  Created wheel for pretrainedmodels: filename=pretrainedmodels-0.7.4-py3-none-any.whl size=60962 sha256=99c8949aaa13f4ddea97b0f5b915ec8f13826db10b08ee7506e40938fe4fecc3\n",
            "  Stored in directory: /root/.cache/pip/wheels/35/cb/a5/8f534c60142835bfc889f9a482e4a67e0b817032d9c6883b64\n",
            "Successfully built efficientnet-pytorch pretrainedmodels\n",
            "Installing collected packages: munch, huggingface-hub, timm, pretrainedmodels, efficientnet-pytorch, torchmetrics, segmentation-models-pytorch\n",
            "Successfully installed efficientnet-pytorch-0.7.1 huggingface-hub-0.14.1 munch-2.5.0 pretrainedmodels-0.7.4 segmentation-models-pytorch-0.3.2 timm-0.6.12 torchmetrics-0.11.4\n"
          ]
        }
      ],
      "source": [
        "try:\n",
        "    import google.colab\n",
        "\n",
        "    IN_COLAB = True\n",
        "except:\n",
        "    IN_COLAB = False\n",
        "if IN_COLAB:\n",
        "    !pip3 install torch matplotlib torchmetrics scikit-image segmentation-models-pytorch"
      ]
    },
    {
      "cell_type": "markdown",
      "id": "0112f199",
      "metadata": {
        "id": "0112f199"
      },
      "source": [
        "## Imports"
      ]
    },
    {
      "cell_type": "code",
      "execution_count": null,
      "id": "372f3da4",
      "metadata": {
        "id": "372f3da4"
      },
      "outputs": [],
      "source": [
        "import torch\n",
        "import torch.nn as nn\n",
        "import torch.optim as optim\n",
        "import torch.utils.data as dset\n",
        "from torchvision import datasets, transforms\n",
        "import numpy as np\n",
        "import matplotlib.pyplot as plt"
      ]
    },
    {
      "cell_type": "markdown",
      "id": "709fa153",
      "metadata": {
        "id": "709fa153"
      },
      "source": [
        "## Set global device "
      ]
    },
    {
      "cell_type": "code",
      "execution_count": null,
      "id": "ef384f3a",
      "metadata": {
        "colab": {
          "base_uri": "https://localhost:8080/"
        },
        "id": "ef384f3a",
        "outputId": "edc42fc1-a2cb-4c45-a812-ad5d76b797f5"
      },
      "outputs": [
        {
          "output_type": "stream",
          "name": "stdout",
          "text": [
            "GPU State: cuda:0\n"
          ]
        }
      ],
      "source": [
        "# GPU\n",
        "device = \"cuda:0\" if torch.cuda.is_available() else \"cpu\"\n",
        "print(\"GPU State:\", device)"
      ]
    },
    {
      "cell_type": "markdown",
      "id": "c0479fa7",
      "metadata": {
        "id": "c0479fa7"
      },
      "source": [
        "## Functions"
      ]
    },
    {
      "cell_type": "code",
      "execution_count": null,
      "id": "16d728ef",
      "metadata": {
        "id": "16d728ef"
      },
      "outputs": [],
      "source": [
        "def training_loop(\n",
        "    model, loss, optimizer, train_Loader, n_epochs, verbose=True, device=device\n",
        "):\n",
        "    \"\"\"\n",
        "    Run training of a model given a loss function, optimizer and a set of training and validation data.\n",
        "    \"\"\"\n",
        "\n",
        "    # Train\n",
        "    for epoch in range(epochs):\n",
        "        running_loss = 0.0\n",
        "\n",
        "        for times, data in enumerate(train_Loader):\n",
        "            inputs, labels = data[0].to(device), data[1].to(device)\n",
        "            # print(\"input shape\", inputs.shape)\n",
        "            # inputs = inputs.view(inputs.shape[0], -1)\n",
        "            # print(\"input shape (2)\", inputs.shape)\n",
        "\n",
        "            # Zero the parameter gradients\n",
        "            optimizer.zero_grad()\n",
        "\n",
        "            # Foward + backward + optimize\n",
        "            outputs = net(inputs)\n",
        "            loss_tensor = loss(outputs, labels)\n",
        "            loss_tensor.backward()\n",
        "            optimizer.step()\n",
        "\n",
        "            # Print statistics\n",
        "            running_loss += loss_tensor.item()\n",
        "            if verbose:\n",
        "                if times % 100 == 99 or times + 1 == len(trainLoader):\n",
        "                    print(\n",
        "                        \"[%d/%d, %d/%d] loss: %.3f\"\n",
        "                        % (\n",
        "                            epoch + 1,\n",
        "                            epochs,\n",
        "                            times + 1,\n",
        "                            len(trainLoader),\n",
        "                            running_loss / 2000,\n",
        "                        )\n",
        "                    )"
      ]
    },
    {
      "cell_type": "code",
      "execution_count": null,
      "id": "2d7ce08f",
      "metadata": {
        "id": "2d7ce08f"
      },
      "outputs": [],
      "source": [
        "def evaluate_model(model, data_loader, device=device):\n",
        "    \"\"\"\n",
        "    Evaluate a model 'model' on all batches of a torch DataLoader 'data_loader'.\n",
        "\n",
        "    Returns: the total number of correct classifications,\n",
        "             the total number of images\n",
        "             the list of the per class correct classification,\n",
        "             the list of the per class total number of images.\n",
        "    \"\"\"\n",
        "\n",
        "    # Test\n",
        "    correct = 0\n",
        "    total = 0\n",
        "\n",
        "    with torch.no_grad():\n",
        "        for data in testLoader:\n",
        "            inputs, labels = data\n",
        "            inputs, labels = inputs.to(device), labels.to(device)\n",
        "            # inputs = inputs.view(inputs.shape[0], -1)\n",
        "\n",
        "            outputs = net(inputs)\n",
        "            _, predicted = torch.max(outputs.data, 1)\n",
        "            total += labels.size(0)\n",
        "            correct += (predicted == labels).sum().item()\n",
        "\n",
        "    class_correct = [0 for i in range(10)]\n",
        "    class_total = [0 for i in range(10)]\n",
        "\n",
        "    with torch.no_grad():\n",
        "        for data in testLoader:\n",
        "            inputs, labels = data[0].to(device), data[1].to(device)\n",
        "            # inputs = inputs.view(inputs.shape[0], -1)\n",
        "\n",
        "            outputs = net(inputs)\n",
        "            _, predicted = torch.max(outputs, 1)\n",
        "            c = (predicted == labels).squeeze()\n",
        "            for i in range(10):\n",
        "                label = labels[i]\n",
        "                class_correct[label] += c[i].item()\n",
        "                class_total[label] += 1\n",
        "\n",
        "    return (correct, total, class_correct, class_total)"
      ]
    },
    {
      "cell_type": "markdown",
      "id": "cd353eee",
      "metadata": {
        "id": "cd353eee"
      },
      "source": [
        "## Main program"
      ]
    },
    {
      "cell_type": "code",
      "execution_count": null,
      "id": "142ae598",
      "metadata": {
        "id": "142ae598"
      },
      "outputs": [],
      "source": [
        "# Transform\n",
        "transform = transforms.Compose(\n",
        "    [\n",
        "        transforms.ToTensor(),\n",
        "        transforms.Normalize((0.5,), (0.5,)),\n",
        "    ]\n",
        ")"
      ]
    },
    {
      "cell_type": "code",
      "execution_count": null,
      "id": "94591bc3",
      "metadata": {
        "id": "94591bc3",
        "colab": {
          "base_uri": "https://localhost:8080/"
        },
        "outputId": "6c8bfe30-2f6f-4bb8-f423-84e8e88bde33"
      },
      "outputs": [
        {
          "output_type": "stream",
          "name": "stdout",
          "text": [
            "Downloading http://yann.lecun.com/exdb/mnist/train-images-idx3-ubyte.gz\n",
            "Downloading http://yann.lecun.com/exdb/mnist/train-images-idx3-ubyte.gz to MNIST/MNIST/raw/train-images-idx3-ubyte.gz\n"
          ]
        },
        {
          "output_type": "stream",
          "name": "stderr",
          "text": [
            "100%|██████████| 9912422/9912422 [00:00<00:00, 258401148.84it/s]"
          ]
        },
        {
          "output_type": "stream",
          "name": "stdout",
          "text": [
            "Extracting MNIST/MNIST/raw/train-images-idx3-ubyte.gz to MNIST/MNIST/raw\n"
          ]
        },
        {
          "output_type": "stream",
          "name": "stderr",
          "text": [
            "\n"
          ]
        },
        {
          "output_type": "stream",
          "name": "stdout",
          "text": [
            "\n",
            "Downloading http://yann.lecun.com/exdb/mnist/train-labels-idx1-ubyte.gz\n",
            "Downloading http://yann.lecun.com/exdb/mnist/train-labels-idx1-ubyte.gz to MNIST/MNIST/raw/train-labels-idx1-ubyte.gz\n"
          ]
        },
        {
          "output_type": "stream",
          "name": "stderr",
          "text": [
            "100%|██████████| 28881/28881 [00:00<00:00, 37584763.83it/s]\n"
          ]
        },
        {
          "output_type": "stream",
          "name": "stdout",
          "text": [
            "Extracting MNIST/MNIST/raw/train-labels-idx1-ubyte.gz to MNIST/MNIST/raw\n",
            "\n",
            "Downloading http://yann.lecun.com/exdb/mnist/t10k-images-idx3-ubyte.gz\n",
            "Downloading http://yann.lecun.com/exdb/mnist/t10k-images-idx3-ubyte.gz to MNIST/MNIST/raw/t10k-images-idx3-ubyte.gz\n"
          ]
        },
        {
          "output_type": "stream",
          "name": "stderr",
          "text": [
            "100%|██████████| 1648877/1648877 [00:00<00:00, 149300362.61it/s]\n"
          ]
        },
        {
          "output_type": "stream",
          "name": "stdout",
          "text": [
            "Extracting MNIST/MNIST/raw/t10k-images-idx3-ubyte.gz to MNIST/MNIST/raw\n",
            "\n",
            "Downloading http://yann.lecun.com/exdb/mnist/t10k-labels-idx1-ubyte.gz\n",
            "Downloading http://yann.lecun.com/exdb/mnist/t10k-labels-idx1-ubyte.gz to MNIST/MNIST/raw/t10k-labels-idx1-ubyte.gz\n"
          ]
        },
        {
          "output_type": "stream",
          "name": "stderr",
          "text": [
            "100%|██████████| 4542/4542 [00:00<00:00, 5433693.32it/s]\n"
          ]
        },
        {
          "output_type": "stream",
          "name": "stdout",
          "text": [
            "Extracting MNIST/MNIST/raw/t10k-labels-idx1-ubyte.gz to MNIST/MNIST/raw\n",
            "\n"
          ]
        }
      ],
      "source": [
        "# Data\n",
        "trainSet = datasets.MNIST(root=\"MNIST\", download=True, train=True, transform=transform)\n",
        "testSet = datasets.MNIST(root=\"MNIST\", download=True, train=False, transform=transform)\n",
        "trainLoader = dset.DataLoader(trainSet, batch_size=64, shuffle=True)\n",
        "testLoader = dset.DataLoader(testSet, batch_size=64, shuffle=False)"
      ]
    },
    {
      "cell_type": "code",
      "execution_count": null,
      "id": "848e7dcc",
      "metadata": {
        "colab": {
          "base_uri": "https://localhost:8080/"
        },
        "id": "848e7dcc",
        "outputId": "13b873f5-15dd-4f78-9389-bf4677c458a7"
      },
      "outputs": [
        {
          "output_type": "stream",
          "name": "stdout",
          "text": [
            "FNN Net(\n",
            "  (main): Sequential(\n",
            "    (0): Linear(in_features=784, out_features=128, bias=True)\n",
            "    (1): ReLU()\n",
            "    (2): Linear(in_features=128, out_features=64, bias=True)\n",
            "    (3): ReLU()\n",
            "    (4): Linear(in_features=64, out_features=10, bias=True)\n",
            "    (5): LogSoftmax(dim=1)\n",
            "  )\n",
            ")\n",
            "CNN Net(\n",
            "  (main): Sequential(\n",
            "    (0): Conv2d(1, 16, kernel_size=(3, 3), stride=(1, 1))\n",
            "    (1): ReLU()\n",
            "    (2): MaxPool2d(kernel_size=2, stride=2, padding=0, dilation=1, ceil_mode=False)\n",
            "    (3): Conv2d(16, 32, kernel_size=(3, 3), stride=(1, 1))\n",
            "    (4): ReLU()\n",
            "    (5): MaxPool2d(kernel_size=2, stride=2, padding=0, dilation=1, ceil_mode=False)\n",
            "    (6): Flatten(start_dim=1, end_dim=-1)\n",
            "    (7): Linear(in_features=800, out_features=10, bias=True)\n",
            "    (8): LogSoftmax(dim=1)\n",
            "  )\n",
            ")\n"
          ]
        }
      ],
      "source": [
        "# Model\n",
        "class Net(nn.Module):\n",
        "    def __init__(self, cnn=False):\n",
        "        super(Net, self).__init__()\n",
        "        self.is_cnn = cnn\n",
        "        if cnn:\n",
        "            self.main = nn.Sequential(\n",
        "                nn.Conv2d(1, 16, kernel_size=(3, 3), stride=(1, 1)),\n",
        "                nn.ReLU(),\n",
        "                nn.MaxPool2d(\n",
        "                    kernel_size=2, stride=2, padding=0, dilation=1, ceil_mode=False\n",
        "                ),\n",
        "                nn.Conv2d(16, 32, kernel_size=(3, 3), stride=(1, 1)),\n",
        "                nn.ReLU(),\n",
        "                nn.MaxPool2d(\n",
        "                    kernel_size=2, stride=2, padding=0, dilation=1, ceil_mode=False\n",
        "                ),\n",
        "                nn.Flatten(start_dim=1, end_dim=-1),\n",
        "                nn.Linear(in_features=800, out_features=10, bias=True),\n",
        "                nn.LogSoftmax(dim=1),\n",
        "            )\n",
        "\n",
        "        else:\n",
        "            self.main = nn.Sequential(\n",
        "                nn.Linear(in_features=784, out_features=128),\n",
        "                nn.ReLU(),\n",
        "                nn.Linear(in_features=128, out_features=64),\n",
        "                nn.ReLU(),\n",
        "                nn.Linear(in_features=64, out_features=10),\n",
        "                nn.LogSoftmax(dim=1),\n",
        "            )\n",
        "\n",
        "    def forward(self, input):\n",
        "        if self.is_cnn:\n",
        "            return self.main(input)\n",
        "        else:\n",
        "            return self.main(input.view(input.shape[0], -1))\n",
        "\n",
        "\n",
        "fnn = Net().to(device)\n",
        "print(\"FNN\", fnn)\n",
        "cnn = Net(cnn=True).to(device)\n",
        "print(\"CNN\", cnn)"
      ]
    },
    {
      "cell_type": "code",
      "source": [
        "for net in [cnn, fnn]:\n",
        "    num_params = sum(p.numel() for p in net.parameters() if p.requires_grad)\n",
        "    print(num_params)"
      ],
      "metadata": {
        "colab": {
          "base_uri": "https://localhost:8080/"
        },
        "id": "ul--NUHuZmbV",
        "outputId": "d3f31f64-d4d3-4290-a17a-cab37c3ebefc"
      },
      "id": "ul--NUHuZmbV",
      "execution_count": null,
      "outputs": [
        {
          "output_type": "stream",
          "name": "stdout",
          "text": [
            "12810\n",
            "109386\n"
          ]
        }
      ]
    },
    {
      "cell_type": "code",
      "execution_count": null,
      "id": "fce0735b",
      "metadata": {
        "colab": {
          "base_uri": "https://localhost:8080/",
          "height": 1000
        },
        "id": "fce0735b",
        "outputId": "d6061511-59d1-4953-f44d-07ef2a19cdae"
      },
      "outputs": [
        {
          "output_type": "stream",
          "name": "stdout",
          "text": [
            "Training CNN on 60000 images\n",
            "[1/4, 100/938] loss: 0.003\n",
            "[1/4, 200/938] loss: 0.006\n",
            "[1/4, 300/938] loss: 0.009\n",
            "[1/4, 400/938] loss: 0.012\n",
            "[1/4, 500/938] loss: 0.015\n",
            "[1/4, 600/938] loss: 0.018\n",
            "[1/4, 700/938] loss: 0.021\n",
            "[1/4, 800/938] loss: 0.024\n",
            "[1/4, 900/938] loss: 0.027\n",
            "[1/4, 938/938] loss: 0.028\n",
            "[2/4, 100/938] loss: 0.003\n",
            "[2/4, 200/938] loss: 0.006\n",
            "[2/4, 300/938] loss: 0.009\n",
            "[2/4, 400/938] loss: 0.012\n",
            "[2/4, 500/938] loss: 0.014\n",
            "[2/4, 600/938] loss: 0.017\n",
            "[2/4, 700/938] loss: 0.020\n",
            "[2/4, 800/938] loss: 0.022\n",
            "[2/4, 900/938] loss: 0.025\n",
            "[2/4, 938/938] loss: 0.026\n",
            "[3/4, 100/938] loss: 0.003\n",
            "[3/4, 200/938] loss: 0.005\n",
            "[3/4, 300/938] loss: 0.007\n",
            "[3/4, 400/938] loss: 0.010\n",
            "[3/4, 500/938] loss: 0.013\n",
            "[3/4, 600/938] loss: 0.016\n",
            "[3/4, 700/938] loss: 0.018\n",
            "[3/4, 800/938] loss: 0.021\n",
            "[3/4, 900/938] loss: 0.023\n",
            "[3/4, 938/938] loss: 0.024\n",
            "[4/4, 100/938] loss: 0.002\n",
            "[4/4, 200/938] loss: 0.004\n",
            "[4/4, 300/938] loss: 0.006\n",
            "[4/4, 400/938] loss: 0.009\n",
            "[4/4, 500/938] loss: 0.012\n",
            "[4/4, 600/938] loss: 0.014\n",
            "[4/4, 700/938] loss: 0.016\n",
            "[4/4, 800/938] loss: 0.019\n",
            "[4/4, 900/938] loss: 0.022\n",
            "[4/4, 938/938] loss: 0.023\n",
            "Training CNN Finished.\n",
            "\n",
            "Accuracy of CNN on the 10000 test images: 98 %\n",
            "Accuracy of 0: 0.993421\n",
            "Accuracy of 1: 0.994595\n",
            "Accuracy of 2: 0.982558\n",
            "Accuracy of 3: 0.961538\n",
            "Accuracy of 4: 0.994350\n",
            "Accuracy of 5: 0.984127\n",
            "Accuracy of 6: 0.968750\n",
            "Accuracy of 7: 0.987805\n",
            "Accuracy of 8: 0.986014\n",
            "Accuracy of 9: 0.970060\n",
            "CNN has 12810 parameters\n",
            "Training FNN on 60000 images\n",
            "[1/4, 100/938] loss: 0.010\n",
            "[1/4, 200/938] loss: 0.020\n",
            "[1/4, 300/938] loss: 0.030\n",
            "[1/4, 400/938] loss: 0.040\n",
            "[1/4, 500/938] loss: 0.049\n",
            "[1/4, 600/938] loss: 0.057\n",
            "[1/4, 700/938] loss: 0.066\n",
            "[1/4, 800/938] loss: 0.075\n",
            "[1/4, 900/938] loss: 0.084\n",
            "[1/4, 938/938] loss: 0.087\n",
            "[2/4, 100/938] loss: 0.009\n",
            "[2/4, 200/938] loss: 0.017\n",
            "[2/4, 300/938] loss: 0.025\n",
            "[2/4, 400/938] loss: 0.033\n",
            "[2/4, 500/938] loss: 0.041\n",
            "[2/4, 600/938] loss: 0.049\n",
            "[2/4, 700/938] loss: 0.057\n",
            "[2/4, 800/938] loss: 0.065\n",
            "[2/4, 900/938] loss: 0.073\n",
            "[2/4, 938/938] loss: 0.076\n",
            "[3/4, 100/938] loss: 0.008\n",
            "[3/4, 200/938] loss: 0.016\n",
            "[3/4, 300/938] loss: 0.023\n",
            "[3/4, 400/938] loss: 0.030\n",
            "[3/4, 500/938] loss: 0.037\n",
            "[3/4, 600/938] loss: 0.044\n",
            "[3/4, 700/938] loss: 0.051\n",
            "[3/4, 800/938] loss: 0.058\n",
            "[3/4, 900/938] loss: 0.065\n",
            "[3/4, 938/938] loss: 0.067\n",
            "[4/4, 100/938] loss: 0.006\n",
            "[4/4, 200/938] loss: 0.012\n",
            "[4/4, 300/938] loss: 0.019\n",
            "[4/4, 400/938] loss: 0.025\n",
            "[4/4, 500/938] loss: 0.032\n",
            "[4/4, 600/938] loss: 0.038\n",
            "[4/4, 700/938] loss: 0.045\n",
            "[4/4, 800/938] loss: 0.051\n",
            "[4/4, 900/938] loss: 0.058\n",
            "[4/4, 938/938] loss: 0.060\n",
            "Training FNN Finished.\n",
            "\n",
            "Accuracy of FNN on the 10000 test images: 96 %\n",
            "Accuracy of 0: 0.980263\n",
            "Accuracy of 1: 0.983784\n",
            "Accuracy of 2: 0.936047\n",
            "Accuracy of 3: 0.961538\n",
            "Accuracy of 4: 0.954802\n",
            "Accuracy of 5: 0.920635\n",
            "Accuracy of 6: 0.937500\n",
            "Accuracy of 7: 0.981707\n",
            "Accuracy of 8: 0.979021\n",
            "Accuracy of 9: 0.958084\n",
            "FNN has 109386 parameters\n"
          ]
        },
        {
          "output_type": "display_data",
          "data": {
            "text/plain": [
              "<Figure size 640x480 with 1 Axes>"
            ],
            "image/png": "[encoded data removed]"
          },
          "metadata": {}
        },
        {
          "output_type": "display_data",
          "data": {
            "text/plain": [
              "<Figure size 640x480 with 1 Axes>"
            ],
            "image/png": "[encoded data removed]"
          },
          "metadata": {}
        }
      ],
      "source": [
        "res = []\n",
        "for net in [cnn, fnn]:\n",
        "    if net == fnn:\n",
        "        name = \"FNN\"\n",
        "    elif net == cnn:\n",
        "        name = \"CNN\"\n",
        "    else:\n",
        "        raise ValueError(\"Unknown net\")\n",
        "    # Parameters\n",
        "    epochs = 4\n",
        "    lr = 0.002\n",
        "    loss = nn.NLLLoss()\n",
        "    optimizer = optim.SGD(net.parameters(), lr=0.002, momentum=0.9)\n",
        "\n",
        "    # Train\n",
        "    print(f\"Training {name} on %d images\" % trainSet.data.shape[0])\n",
        "    training_loop(net, loss, optimizer, trainLoader, epochs)\n",
        "    print(f\"Training {name} Finished.\\n\")\n",
        "\n",
        "    # Test\n",
        "    correct, total, class_correct, class_total = evaluate_model(net, testLoader)\n",
        "    print(\n",
        "        f\"Accuracy of {name} on the %d test images: %d %%\"\n",
        "        % (testSet.data.shape[0], (100 * correct / total))\n",
        "    )\n",
        "    for i in range(10):\n",
        "        print(\"Accuracy of %d: %3f\" % (i, (class_correct[i] / class_total[i])))\n",
        "    \n",
        "    fig = plt.figure()\n",
        "    plt.bar(range(10), np.array(class_correct) / np.array(class_total))\n",
        "    plt.title(f\"{name} per-digit accuracy\")\n",
        "    plt.xlabel(\"Digit\")\n",
        "    plt.ylabel(\"Accuracy=\")\n",
        "    plt.gca().set_xticks([x for x in range(10)])\n",
        "    plt.gca().set_xlim(-0.5, 9.5)\n",
        "    plt.gca().set_ylim(0.9, 1.0)\n",
        "    plt.savefig(f\"{name}_per_digit_acc.png\", dpi=300)\n",
        "\n",
        "    res.append(np.array(class_correct) / np.array(class_total))\n",
        "    print(f\"{name} has {sum(p.numel() for p in net.main.parameters() if p.requires_grad)} parameters\")"
      ]
    },
    {
      "cell_type": "code",
      "source": [
        "fig = plt.figure()\n",
        "plt.bar(range(10), res[0] / res[1])\n",
        "plt.title(f\"Relative performance of CNN to FNN\")\n",
        "plt.xlabel(\"Digit\")\n",
        "plt.ylabel(\"Accuracy ratio Ratio CNN / FNN\")\n",
        "plt.gca().set_xticks([x for x in range(10)])\n",
        "plt.gca().set_xlim(-0.5, 9.5)\n",
        "plt.gca().set_ylim(0.9, 1.1)\n",
        "plt.hlines(y=1.0, xmin=-0.5, xmax=10, linewidth=2, color='r')\n",
        "plt.savefig(f\"class_correct.png\", dpi=300)"
      ],
      "metadata": {
        "colab": {
          "base_uri": "https://localhost:8080/",
          "height": 472
        },
        "id": "Xvf3UqO-0IWe",
        "outputId": "a591900b-722a-4ecf-caab-54e508d41619"
      },
      "id": "Xvf3UqO-0IWe",
      "execution_count": null,
      "outputs": [
        {
          "output_type": "display_data",
          "data": {
            "text/plain": [
              "<Figure size 640x480 with 1 Axes>"
            ],
            "image/png": "[encoded data removed]"
          },
          "metadata": {}
        }
      ]
    }
  ],
  "metadata": {
    "kernelspec": {
      "display_name": "Python 3",
      "name": "python3"
    },
    "language_info": {
      "name": "python"
    },
    "colab": {
      "provenance": [],
      "gpuType": "T4"
    },
    "gpuClass": "standard",
    "accelerator": "GPU"
  },
  "nbformat": 4,
  "nbformat_minor": 5
}
